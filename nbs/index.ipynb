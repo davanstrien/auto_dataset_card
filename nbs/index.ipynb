{
 "cells": [
  {
   "cell_type": "code",
   "execution_count": null,
   "metadata": {},
   "outputs": [
    {
     "name": "stderr",
     "output_type": "stream",
     "text": [
      "/Users/davanstrien/Documents/code/auto_dataset_card/.venv/lib/python3.11/site-packages/tqdm/auto.py:22: TqdmWarning: IProgress not found. Please update jupyter and ipywidgets. See https://ipywidgets.readthedocs.io/en/stable/user_install.html\n",
      "  from .autonotebook import tqdm as notebook_tqdm\n"
     ]
    }
   ],
   "source": [
    "# | hide\n",
    "from auto_dataset_card.core import *"
   ]
  },
  {
   "attachments": {},
   "cell_type": "markdown",
   "metadata": {},
   "source": [
    "# auto_dataset_card\n",
    "\n",
    "> Writing dataset cards is essential. It is also time-consuming. Wouldn't it be nice to generate parts of our dataset card automagically? "
   ]
  },
  {
   "cell_type": "markdown",
   "metadata": {},
   "source": [
    "## Install"
   ]
  },
  {
   "attachments": {},
   "cell_type": "markdown",
   "metadata": {},
   "source": [
    "```sh\n",
    "python -m pip install git+https://github.com/davanstrien/auto_dataset_card.git\n",
    "```"
   ]
  },
  {
   "cell_type": "markdown",
   "metadata": {},
   "source": [
    "## How to use"
   ]
  },
  {
   "attachments": {},
   "cell_type": "markdown",
   "metadata": {},
   "source": [
    "This is currently a proof-of-concept but the idea will be that this library will allow you to:\n",
    "- pass in a 🤗 `datasets` dataset and get back useful information for your dataset card i.e. label frequencies \n",
    "- optionally format this information in a nice Markdown format i.e. a Markdown table"
   ]
  },
  {
   "cell_type": "code",
   "execution_count": null,
   "metadata": {},
   "outputs": [
    {
     "name": "stdout",
     "output_type": "stream",
     "text": [
      "{'train': {'neg': 12500, 'pos': 12500}, 'test': {'neg': 12500, 'pos': 12500}, 'unsupervised': {'no label': 50000}}\n"
     ]
    }
   ],
   "source": [
    "from auto_dataset_card.core import generate_label_breakdown_tables, get_label_counts\n",
    "from datasets import load_dataset\n",
    "ds = load_dataset('imdb',streaming=True)\n",
    "label_counts = get_label_counts(ds)\n",
    "print(label_counts)"
   ]
  },
  {
   "cell_type": "code",
   "execution_count": null,
   "metadata": {},
   "outputs": [
    {
     "name": "stdout",
     "output_type": "stream",
     "text": [
      "| Label   |   Count | Percentage   |\n",
      "|---------|---------|--------------|\n",
      "| neg     |   12500 | 50.0%        |\n",
      "| pos     |   12500 | 50.0%        |\n"
     ]
    }
   ],
   "source": [
    "tables = generate_label_breakdown_tables(label_counts)\n",
    "print(tables[0][1])"
   ]
  }
 ],
 "metadata": {
  "kernelspec": {
   "display_name": ".venv",
   "language": "python",
   "name": "python3"
  }
 },
 "nbformat": 4,
 "nbformat_minor": 4
}
