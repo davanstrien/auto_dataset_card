{
 "cells": [
  {
   "cell_type": "markdown",
   "metadata": {},
   "source": [
    "# core\n",
    "\n",
    "> Fill in a module description here"
   ]
  },
  {
   "cell_type": "code",
   "execution_count": null,
   "metadata": {},
   "outputs": [],
   "source": [
    "# | default_exp core"
   ]
  },
  {
   "cell_type": "code",
   "execution_count": null,
   "metadata": {},
   "outputs": [],
   "source": [
    "# | export\n",
    "from datasets import load_dataset\n",
    "from datasets import ClassLabel\n",
    "from datasets import IterableDataset, Dataset, DatasetDict, IterableDatasetDict\n",
    "from typing import Dict, Any, List\n",
    "from collections import Counter\n",
    "from tabulate import tabulate\n",
    "from typing import Union"
   ]
  },
  {
   "cell_type": "code",
   "execution_count": null,
   "metadata": {},
   "outputs": [],
   "source": [
    "# | hide\n",
    "from nbdev.showdoc import *"
   ]
  },
  {
   "cell_type": "code",
   "execution_count": null,
   "metadata": {},
   "outputs": [
    {
     "data": {
      "text/plain": [
       "{'train': <datasets.iterable_dataset.IterableDataset>,\n",
       " 'test': <datasets.iterable_dataset.IterableDataset>,\n",
       " 'unsupervised': <datasets.iterable_dataset.IterableDataset>}"
      ]
     },
     "execution_count": null,
     "metadata": {},
     "output_type": "execute_result"
    }
   ],
   "source": [
    "ds = load_dataset(\"imdb\", streaming=True)\n",
    "ds"
   ]
  },
  {
   "cell_type": "code",
   "execution_count": null,
   "metadata": {},
   "outputs": [],
   "source": [
    "# | export\n",
    "def get_label_column_names(features: Dict[str, Any]) -> List[str]:\n",
    "    return [k for k, v in features.items() if isinstance(v, ClassLabel)]"
   ]
  },
  {
   "cell_type": "code",
   "execution_count": null,
   "metadata": {},
   "outputs": [],
   "source": [
    "label_columns = get_label_column_names(ds[\"train\"].features)\n",
    "assert label_columns\n",
    "assert isinstance(label_columns, list)"
   ]
  },
  {
   "cell_type": "code",
   "execution_count": null,
   "metadata": {},
   "outputs": [],
   "source": [
    "# | export\n",
    "def yield_label_column(\n",
    "    dataset: IterableDataset, column_name: str, features: Dict[str, Any]\n",
    "):\n",
    "    for row in dataset:\n",
    "        intlabel = row[column_name]\n",
    "        if intlabel != -1:\n",
    "            yield features[column_name].int2str(intlabel)\n",
    "        else:\n",
    "            yield \"no label\""
   ]
  },
  {
   "cell_type": "code",
   "execution_count": null,
   "metadata": {},
   "outputs": [],
   "source": [
    "# | export\n",
    "def get_label_counts(\n",
    "    ds: Union[IterableDataset, DatasetDict]\n",
    ") -> Dict[str, Dict[str, int]]:\n",
    "    results = {}\n",
    "    for split_name in ds:\n",
    "        split = ds[split_name]\n",
    "        split_features = split.features\n",
    "        label_columns = get_label_column_names(split_features)\n",
    "        for column in label_columns:\n",
    "            labels = yield_label_column(split, column, split_features)\n",
    "            results[split_name] = dict(Counter(labels))\n",
    "    return results"
   ]
  },
  {
   "cell_type": "code",
   "execution_count": null,
   "metadata": {},
   "outputs": [],
   "source": [
    "results = get_label_counts(ds)\n",
    "assert results"
   ]
  },
  {
   "cell_type": "code",
   "execution_count": null,
   "metadata": {},
   "outputs": [],
   "source": [
    "# | export\n",
    "def generate_label_breakdown_tables(results):\n",
    "    tables = []\n",
    "    for name, split in results.items():\n",
    "        total = sum(split.values())\n",
    "        table_data = [(k, v, f\"{round((v/total)*100,2)}%\") for k, v in split.items()]\n",
    "        tables.append(\n",
    "            (\n",
    "                name,\n",
    "                tabulate(\n",
    "                    table_data,\n",
    "                    tablefmt=\"github\",\n",
    "                    headers=(\"Label\", \"Count\", \"Percentage\"),\n",
    "                ),\n",
    "            )\n",
    "        )\n",
    "    return tables"
   ]
  },
  {
   "cell_type": "code",
   "execution_count": null,
   "metadata": {},
   "outputs": [],
   "source": [
    "results = get_label_counts(ds)\n",
    "tables = generate_label_breakdown_tables(results)\n",
    "assert tables"
   ]
  },
  {
   "cell_type": "code",
   "execution_count": null,
   "metadata": {},
   "outputs": [
    {
     "name": "stdout",
     "output_type": "stream",
     "text": [
      "train\n",
      "| Label   |   Count | Percentage   |\n",
      "|---------|---------|--------------|\n",
      "| neg     |   12500 | 50.0%        |\n",
      "| pos     |   12500 | 50.0%        |\n",
      "test\n",
      "| Label   |   Count | Percentage   |\n",
      "|---------|---------|--------------|\n",
      "| neg     |   12500 | 50.0%        |\n",
      "| pos     |   12500 | 50.0%        |\n",
      "unsupervised\n",
      "| Label    |   Count | Percentage   |\n",
      "|----------|---------|--------------|\n",
      "| no label |   50000 | 100.0%       |\n"
     ]
    }
   ],
   "source": [
    "for name, table in tables:\n",
    "    print(name)\n",
    "    print(table)"
   ]
  },
  {
   "cell_type": "code",
   "execution_count": null,
   "metadata": {},
   "outputs": [],
   "source": [
    "# | hide\n",
    "import nbdev\n",
    "\n",
    "nbdev.nbdev_export()"
   ]
  }
 ],
 "metadata": {
  "kernelspec": {
   "display_name": ".venv",
   "language": "python",
   "name": "python3"
  }
 },
 "nbformat": 4,
 "nbformat_minor": 4
}
